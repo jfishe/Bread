{
 "cells": [
  {
   "cell_type": "markdown",
   "metadata": {},
   "source": [
    "# Blending High Extraction and Low Extraction Flours\n",
    "\n",
    "The [Tartine method][Tartine3] calls for wheat flours at various extraction levels which\n",
    "are not easy to purchase. They can, however, be created by blending low and\n",
    "high extraction flour. The\n",
    "[Hamelman Challenge, Tech. Note: High Extraction Flour][Hamelman Challenge]\n",
    "provides a method for blending whole wheat (100% extraction) and typical bread\n",
    "flour (~70% extraction) to achieve the desired High Extraction Flour (85%).\n",
    "\n",
    "I found a [bread flour][Azure Bread Flour] from [Azure Standard] with a flavor\n",
    "and color I enjoy. The Unifine milling process reduces the bran and germ to small enough particles that they are not noticeable in the texture. Oven spring is good, but the air-pockets are not large, unlike [Tartine][Tartine3] bread. The texture is good but a little dense. \n",
    "\n",
    "The [Azure Bread Flour] extraction (90%) is higher than the recommended 85% for High-Extraction and 75% for Medium-Strong. So assuming my turning and forming skills are not to blame (*dubious assumption*), I'm going to try blending flours  to achieve the recommended extraction.\n",
    "\n",
    "Blending the bread flour with All-Purpose flour (0% extraction) provides a simple solution. [Azure Standard] has an [unenriched All-Purpose Flour][Azure All-Purpose Flour]. We can avoid any questions about whether enriching is healthy since the bread flour and the whole grain flours typical of [Tartine][Tartine3] recipes should compensate for any nutrients removed from the All-Purpose flour. The amount of All-Purpose flour required is a small fraction (~6%) of the total flour.\n",
    "\n",
    "[Tartine3]: https://books.google.com/books/about/Tartine_Book_No_3.html?id=iS_UAAAAQBAJ \"Tartine Book No. 3: Modern Ancient Classic Whole\"\n",
    "\n",
    "[Hamelman Challenge]: http://hamelmanchallenge.blogspot.com/2010/06/tech-note-high-extraction-flour.html \"Tech. Note: High Extraction Flour\"\n",
    "\n",
    "[Azure Bread Flour]: https://www.azurestandard.com/shop/product/food/flour/white/wheat/unbleached-bread-flour-ultra-unifine-organic/20260?package=FL403 \"Azure Market Organics Unbleached Bread Flour (Ultra Unifine), Organic\"\n",
    "\n",
    "[Azure Standard]: https://www.azurestandard.com \"Azure Standard of Healthy and Abundant Living\"\n",
    "\n",
    "[Azure All-Purpose Flour]: https://www.azurestandard.com/shop/product/food/flour/unbleached-flour/all-purpose-flour-unbleached-organic/11444?package=FL080 \"Azure Market Organics All Purpose Flour Unbleached, Organic\""
   ]
  },
  {
   "cell_type": "markdown",
   "metadata": {
    "variables": {
     "f'{94-83:.0f} g'": "11 g"
    }
   },
   "source": [
    "Since we do not know the proportions of endosperm, bran and germ in the bread flour, we cannot calculate the precise amount of All-Purpose flour (endosperm) to add to acheive the desired extraction. I'm going to try two different approximations:\n",
    "\n",
    "- [Weighted average](#Weighted-Average)\n",
    "- [Dilution](#Dilution)\n",
    "\n",
    "Both methods yield similar results (within {{f'{94-83:.0f} g'}})."
   ]
  },
  {
   "cell_type": "code",
   "execution_count": 1,
   "metadata": {},
   "outputs": [],
   "source": [
    "from IPython.display import display, Math, Latex\n",
    "import sympy as sym\n",
    "\n",
    "sym.init_printing() # LaTeX formatted output"
   ]
  },
  {
   "cell_type": "markdown",
   "metadata": {},
   "source": [
    "<a id=\"Weighted-Average\"></a>\n",
    "## All-Purpose and Bread Flour Blending Equation (Weighted Average)\n",
    "\n",
    "The math is a fairly straightforward mass-balance or weighted average:\n",
    "\n",
    "Let:\n",
    "\n",
    "$b$\n",
    ":   Subscript for bread flour\n",
    "\n",
    "$a$\n",
    ":   Subscript for All-Purpose flour\n",
    "\n",
    "$T$\n",
    ":   Subscript for Target (desired) extraction flour\n",
    "\n",
    "$m$\n",
    ":   mass of flour\n",
    "\n",
    "$E$\n",
    ":   Extraction fraction (i.e., percentage/100)—if you're using a spreadsheet, just type `%` after the percentage.\n",
    "\n",
    "$$\n",
    "\\begin{aligned}\n",
    "    m_b(1-E_b) + m_a &= m_T(1-E_T) \\\\\n",
    "          m_b + m_a &= m_T \\\\\n",
    "\\end{aligned}\n",
    "$$\n",
    "\n",
    "Using a little bit of the Algebra, we were never going to use after high school (actually sympy is doing the work), yields:"
   ]
  },
  {
   "cell_type": "code",
   "execution_count": 2,
   "metadata": {},
   "outputs": [
    {
     "data": {
      "image/png": "[encoded data removed]",
      "text/latex": [
       "$$\\left \\{ m_{a} : - \\frac{E_{T} m_{T}}{E_{b}} + m_{T}, \\quad m_{b} : \\frac{E_{T} m_{T}}{E_{b}}\\right \\}$$"
      ],
      "text/plain": [
       "⎧      E_T⋅m_T             E_T⋅m_T⎫\n",
       "⎨mₐ: - ─────── + m_T, m_b: ───────⎬\n",
       "⎩        E_b                 E_b  ⎭"
      ]
     },
     "metadata": {},
     "output_type": "display_data"
    }
   ],
   "source": [
    "ET, Eb, mT = sym.symbols('E_T, E_b, m_T')\n",
    "ma, mb = sym.symbols('m_a, m_b',)\n",
    "\n",
    "E1 = mT * (1.0 - ET) - mb * (1.0 - Eb) - ma\n",
    "E2 = mT - mb - ma\n",
    "sols = sym.solve([E1, E2], [mb, ma])\n",
    "display(sols)\n",
    "mb = (sols[mb]).factor()\n",
    "ma = (sols[ma]).factor()"
   ]
  },
  {
   "cell_type": "markdown",
   "metadata": {},
   "source": [
    "### Example 1: High-Extraction Flour Blend\n",
    "\n",
    "For 500 g ($m_T$) of high-extraction flour:"
   ]
  },
  {
   "cell_type": "code",
   "execution_count": 3,
   "metadata": {},
   "outputs": [
    {
     "data": {
      "text/latex": [
       "$$\\text{For:}$$"
      ],
      "text/plain": [
       "<IPython.core.display.Math object>"
      ]
     },
     "metadata": {},
     "output_type": "display_data"
    },
    {
     "data": {
      "text/latex": [
       "$$\\left \\{ E_T : 0.85, \\quad E_b : 0.9, \\quad m_T : 500.0\\right \\}$$"
      ],
      "text/plain": [
       "<IPython.core.display.Math object>"
      ]
     },
     "metadata": {},
     "output_type": "display_data"
    },
    {
     "data": {
      "text/latex": [
       "$$\\text{the flour blend should be:}$$"
      ],
      "text/plain": [
       "<IPython.core.display.Math object>"
      ]
     },
     "metadata": {},
     "output_type": "display_data"
    },
    {
     "data": {
      "text/latex": [
       "$$\\left \\{ m_T : 500.0, \\quad m_a : 28.0, \\quad m_b : 472.0\\right \\}$$"
      ],
      "text/plain": [
       "<IPython.core.display.Math object>"
      ]
     },
     "metadata": {},
     "output_type": "display_data"
    }
   ],
   "source": [
    "subs = dict([('E_T', 0.85),\n",
    "             ('E_b', 0.90),\n",
    "             ('m_T', 500.0),\n",
    "            ])\n",
    "\n",
    "def display_blend(subs=subs, ma=ma, mb=mb):\n",
    "    '''Display the bread and All-Purpose flour blend'''\n",
    "    \n",
    "    result = dict([('m_a', round(ma.subs(subs),0)),\n",
    "                   ('m_b', round(mb.subs(subs),0))])\n",
    "    result['m_T'] = result['m_a'] + result['m_b']\n",
    "\n",
    "    display(Math(data=r'\\text{For:}'), Math(data=sym.latex(subs)),\n",
    "            Math(data=r'\\text{the flour blend should be:}'), \n",
    "            Math(data=sym.latex(result)))\n",
    "\n",
    "    assert result['m_T'] == subs['m_T']\n",
    "\n",
    "display_blend()"
   ]
  },
  {
   "cell_type": "markdown",
   "metadata": {},
   "source": [
    "### Example 2: Medium-Strong Wheat Flour Blend\n",
    "\n",
    "For 500 g ($m_T$) of medium-strong wheat flour:"
   ]
  },
  {
   "cell_type": "code",
   "execution_count": 4,
   "metadata": {},
   "outputs": [
    {
     "data": {
      "text/latex": [
       "$$\\text{For:}$$"
      ],
      "text/plain": [
       "<IPython.core.display.Math object>"
      ]
     },
     "metadata": {},
     "output_type": "display_data"
    },
    {
     "data": {
      "text/latex": [
       "$$\\left \\{ E_T : 0.75, \\quad E_b : 0.9, \\quad m_T : 500.0\\right \\}$$"
      ],
      "text/plain": [
       "<IPython.core.display.Math object>"
      ]
     },
     "metadata": {},
     "output_type": "display_data"
    },
    {
     "data": {
      "text/latex": [
       "$$\\text{the flour blend should be:}$$"
      ],
      "text/plain": [
       "<IPython.core.display.Math object>"
      ]
     },
     "metadata": {},
     "output_type": "display_data"
    },
    {
     "data": {
      "text/latex": [
       "$$\\left \\{ m_T : 500.0, \\quad m_a : 83.0, \\quad m_b : 417.0\\right \\}$$"
      ],
      "text/plain": [
       "<IPython.core.display.Math object>"
      ]
     },
     "metadata": {},
     "output_type": "display_data"
    }
   ],
   "source": [
    "subs = dict([('E_T', 0.75),\n",
    "             ('E_b', 0.90),\n",
    "             ('m_T', 500.0),\n",
    "            ])\n",
    "\n",
    "display_blend(subs=subs)"
   ]
  },
  {
   "cell_type": "markdown",
   "metadata": {},
   "source": [
    "<a id=\"Dilution\"></a>\n",
    "## All-Purpose and Bread Flour Blending Equation (Dilution)\n",
    "\n",
    "Taking an approach similar to the [Hamelman Challenge][Hamelman Challenge], we'll estimate extraction by adding the weight of All-Purpose flour to the total grain weight (denominator of the equation). Since we're not adding any bran or germ, the numerator only includes the weight of bread flour.\n",
    "\n",
    "[Hamelman Challenge]: http://hamelmanchallenge.blogspot.com/2010/06/tech-note-high-extraction-flour.html \"Tech. Note: High Extraction Flour\""
   ]
  },
  {
   "cell_type": "markdown",
   "metadata": {},
   "source": [
    "Let:\n",
    "\n",
    "$b$\n",
    ":   Subscript for bread flour\n",
    "\n",
    "$a$\n",
    ":   Subscript for All-Purpose flour\n",
    "\n",
    "$T$\n",
    ":   Subscript for Target (desired) extraction flour\n",
    "\n",
    "$m$\n",
    ":   mass of flour\n",
    "\n",
    "$E$\n",
    ":   Extraction fraction (i.e., percentage/100)—if you're using a spreadsheet, just type `%` after the percentage.\n",
    "\n",
    "$$\n",
    "\\begin{aligned}\n",
    "    \\frac{m_b}{\\frac{m_b}{E_b} + m_a} &= E_T \\\\\n",
    "          m_b + m_a &= m_T\n",
    "\\end{aligned}\n",
    "$$\n",
    "\n",
    "Using bit more  Algebra (we'll let sympy do the heavy lifting this time), yields:"
   ]
  },
  {
   "cell_type": "code",
   "execution_count": 5,
   "metadata": {},
   "outputs": [
    {
     "data": {
      "image/png": "[encoded data removed]",
      "text/latex": [
       "$$\\left \\{ m_{a} : - \\frac{m_{T} \\left(E_{T} - E_{b}\\right)}{E_{T} E_{b} - E_{T} + E_{b}}, \\quad m_{b} : \\frac{E_{T} E_{b} m_{T}}{E_{T} E_{b} - E_{T} + E_{b}}\\right \\}$$"
      ],
      "text/plain": [
       "⎧     -m_T⋅(E_T - E_b)             E_T⋅E_b⋅m_T    ⎫\n",
       "⎨mₐ: ───────────────────, m_b: ───────────────────⎬\n",
       "⎩    E_T⋅E_b - E_T + E_b       E_T⋅E_b - E_T + E_b⎭"
      ]
     },
     "metadata": {},
     "output_type": "display_data"
    }
   ],
   "source": [
    "ET, Eb, mT = sym.symbols('E_T, E_b, m_T')\n",
    "ma, mb = sym.symbols('m_a, m_b',)\n",
    "\n",
    "E1 = ET - mb / (mb / Eb + ma)\n",
    "E2 = mT - mb - ma\n",
    "sols = sym.solve([E1, E2], [mb, ma])\n",
    "display(sols)\n",
    "mb = (sols[mb]).factor()\n",
    "ma = (sols[ma]).factor()"
   ]
  },
  {
   "cell_type": "markdown",
   "metadata": {},
   "source": [
    "### Example 1: High-Extraction Flour Blend\n",
    "\n",
    "For 500 g ($m_T$) of high-extraction flour:"
   ]
  },
  {
   "cell_type": "code",
   "execution_count": 6,
   "metadata": {},
   "outputs": [
    {
     "data": {
      "text/latex": [
       "$$\\text{For:}$$"
      ],
      "text/plain": [
       "<IPython.core.display.Math object>"
      ]
     },
     "metadata": {},
     "output_type": "display_data"
    },
    {
     "data": {
      "text/latex": [
       "$$\\left \\{ E_T : 0.85, \\quad E_b : 0.9, \\quad m_T : 500.0\\right \\}$$"
      ],
      "text/plain": [
       "<IPython.core.display.Math object>"
      ]
     },
     "metadata": {},
     "output_type": "display_data"
    },
    {
     "data": {
      "text/latex": [
       "$$\\text{the flour blend should be:}$$"
      ],
      "text/plain": [
       "<IPython.core.display.Math object>"
      ]
     },
     "metadata": {},
     "output_type": "display_data"
    },
    {
     "data": {
      "text/latex": [
       "$$\\left \\{ m_T : 500.0, \\quad m_a : 31.0, \\quad m_b : 469.0\\right \\}$$"
      ],
      "text/plain": [
       "<IPython.core.display.Math object>"
      ]
     },
     "metadata": {},
     "output_type": "display_data"
    }
   ],
   "source": [
    "subs = dict([('E_T', 0.85),\n",
    "             ('E_b', 0.90),\n",
    "             ('m_T', 500.0),\n",
    "            ])\n",
    "\n",
    "display_blend(subs=subs, ma=ma, mb=mb)"
   ]
  },
  {
   "cell_type": "markdown",
   "metadata": {},
   "source": [
    "### Example 2: Medium-Strong Wheat Flour Blend\n",
    "\n",
    "For 500 g ($m_T$) of medium-strong wheat flour:"
   ]
  },
  {
   "cell_type": "code",
   "execution_count": 7,
   "metadata": {},
   "outputs": [
    {
     "data": {
      "text/latex": [
       "$$\\text{For:}$$"
      ],
      "text/plain": [
       "<IPython.core.display.Math object>"
      ]
     },
     "metadata": {},
     "output_type": "display_data"
    },
    {
     "data": {
      "text/latex": [
       "$$\\left \\{ E_T : 0.75, \\quad E_b : 0.9, \\quad m_T : 500.0\\right \\}$$"
      ],
      "text/plain": [
       "<IPython.core.display.Math object>"
      ]
     },
     "metadata": {},
     "output_type": "display_data"
    },
    {
     "data": {
      "text/latex": [
       "$$\\text{the flour blend should be:}$$"
      ],
      "text/plain": [
       "<IPython.core.display.Math object>"
      ]
     },
     "metadata": {},
     "output_type": "display_data"
    },
    {
     "data": {
      "text/latex": [
       "$$\\left \\{ m_T : 500.0, \\quad m_a : 91.0, \\quad m_b : 409.0\\right \\}$$"
      ],
      "text/plain": [
       "<IPython.core.display.Math object>"
      ]
     },
     "metadata": {},
     "output_type": "display_data"
    }
   ],
   "source": [
    "subs = dict([('E_T', 0.75),\n",
    "             ('E_b', 0.90),\n",
    "             ('m_T', 500.0),\n",
    "            ])\n",
    "\n",
    "display_blend(subs=subs, ma=ma, mb=mb)"
   ]
  },
  {
   "cell_type": "markdown",
   "metadata": {},
   "source": [
    "# Results\n",
    "\n",
    "Time to bake some bread and see...."
   ]
  }
 ],
 "metadata": {
  "kernelspec": {
   "display_name": "Python 3",
   "language": "python",
   "name": "python3"
  },
  "language_info": {
   "codemirror_mode": {
    "name": "ipython",
    "version": 3
   },
   "file_extension": ".py",
   "mimetype": "text/x-python",
   "name": "python",
   "nbconvert_exporter": "python",
   "pygments_lexer": "ipython3",
   "version": "3.6.5"
  },
  "toc": {
   "base_numbering": 1,
   "nav_menu": {},
   "number_sections": true,
   "sideBar": true,
   "skip_h1_title": false,
   "title_cell": "Table of Contents",
   "title_sidebar": "Contents",
   "toc_cell": false,
   "toc_position": {},
   "toc_section_display": true,
   "toc_window_display": false
  }
 },
 "nbformat": 4,
 "nbformat_minor": 2
}
