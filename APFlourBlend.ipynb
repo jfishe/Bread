{
 "cells": [
  {
   "cell_type": "markdown",
   "metadata": {},
   "source": [
    "# Blending High Extraction and Low Extraction Flours\n",
    "\n",
    "The [Tartine method][Tartine3] calls for wheat flours at various extraction levels which\n",
    "are not easy to purchase. They can, however, be created by blending low and\n",
    "high extraction flour. The\n",
    "[Hamelman Challenge, Tech. Note: High Extraction Flour][Hamelman Challenge]\n",
    "provides a method for blending whole wheat (100% extraction) and typical bread\n",
    "flour (~70% extraction) to achieve the desired High Extraction Flour (85%).\n",
    "\n",
    "I found a [bread flour][Azure Bread Flour] from [Azure Standard] with a flavor\n",
    "and color I enjoy, but the extraction (90%) is too high. Blending the bread\n",
    "flour with All-Purpose flour (0% extraction) provides a simple solution.\n",
    "[Azure Standard] has an\n",
    "[unenriched All-Purpose Flour][Azure All-Purpose Flour]. We can avoid any\n",
    "questions about whether enriching is healthy since the bread flour and the\n",
    "whole grain flours typical of [Tartine][Tartine3] recipes should compensate for\n",
    "any nutrients removed from the All-Purpose flour. the amount of All-Purpose\n",
    "flour required is a small fraction (~6%) of the total flour."
   ]
  },
  {
   "cell_type": "markdown",
   "metadata": {},
   "source": [
    "# All-Purpose and Bread Flour Blending Equation\n",
    "\n",
    "The math is a fairly straightforward mass-balance or weighted average:\n",
    "\n",
    "Let:\n",
    "\n",
    "$b$\n",
    ":   Subscript for bread flour\n",
    "\n",
    "$a$\n",
    ":   Subscript for All-Purpose flour\n",
    "\n",
    "$T$\n",
    ":   Subscript for Target (desired) extraction flour\n",
    "\n",
    "$m$\n",
    ":   mass of flour\n",
    "\n",
    "$E$\n",
    ":   Extraction fraction (i.e., percentage/100)—if you're using a spreadsheet, just type `%` after the percentage.\n",
    "\n",
    "$$\n",
    "\\begin{aligned}\n",
    "    m_b(1-E_b) + m_a &= m_T(1-E_T) \\\\\n",
    "          m_b + m_a &= m_T \\\\\n",
    "\\end{aligned}\n",
    "$$\n",
    "\n",
    "Using a little bit of the Algebra, we were never going to use after high school, yields:\n",
    "\n",
    "$$\n",
    "\\begin{aligned}\n",
    "    m_b &= \\frac{m_T}{1+E_b-E_T} \\\\\n",
    "    m_a &= m_T - m_b \\\\\n",
    "\\end{aligned}\n",
    "$$"
   ]
  },
  {
   "cell_type": "markdown",
   "metadata": {},
   "source": [
    "## Example 1: High-Extraction Flour Blend\n",
    "\n",
    "For 500 g ($m_T$) of high-extraction flour:\n",
    "\n",
    "$$\n",
    "\\begin{aligned}\n",
    "    m_b &= \\frac{500 \\text{ g}}{1+90\\%-85\\%} &= 476 \\text{ g}\\\\\n",
    "    m_a &= 500 \\text{ g} - 476\\text{ g} &= 24\\text{ g} \\\\\n",
    "\\end{aligned}\n",
    "$$"
   ]
  },
  {
   "cell_type": "markdown",
   "metadata": {},
   "source": [
    "## Example 2: Medium-Strong Wheat Flour Blend\n",
    "\n",
    "For 500 g ($m_T$) of medium-strong wheat flour:\n",
    "\n",
    "$$\n",
    "\\begin{aligned}\n",
    "    m_b &= \\frac{500 \\text{ g}}{1+90\\%-75\\%} = 435 \\text{ g}\\\\\n",
    "    m_a &= 500 \\text{ g} - 435\\text{ g} = 65\\text{ g} \\\\\n",
    "\\end{aligned}\n",
    "$$"
   ]
  },
  {
   "cell_type": "markdown",
   "metadata": {},
   "source": []
  },
  {
   "cell_type": "markdown",
   "metadata": {},
   "source": [
    "# References\n",
    "\n",
    "[Tartine3]: https://books.google.com/books/about/Tartine_Book_No_3.html?id=iS_UAAAAQBAJ \"Tartine Book No. 3: Modern Ancient Classic Whole\"\n",
    "\n",
    "[Hamelman Challenge]: http://hamelmanchallenge.blogspot.com/2010/06/tech-note-high-extraction-flour.html \"Tech. Note: High Extraction Flour\"\n",
    "\n",
    "[Azure Bread Flour]: https://www.azurestandard.com/shop/product/food/flour/white/wheat/unbleached-bread-flour-ultra-unifine-organic/20260?package=FL403 \"Azure Market Organics Unbleached Bread Flour (Ultra Unifine), Organic\"\n",
    "\n",
    "[Azure Standard]: https://www.azurestandard.com \"Azure Standard of Healthy and Abundant Living\"\n",
    "\n",
    "[Azure All-Purpose Flour]: https://www.azurestandard.com/shop/product/food/flour/unbleached-flour/all-purpose-flour-unbleached-organic/11444?package=FL080 \"Azure Market Organics All Purpose Flour Unbleached, Organic\"\n",
    "\n",
    "[f1]: http://mathurl.com/yc22rgc4.png \"All-Purpose and Bread Flour Blending Derivation\"\n",
    "\n",
    "[f2]: http://mathurl.com/yaexyhgh.png \"All-Purpose and Bread Flour Blending Equation\"\n",
    "\n",
    "[f3]: http://mathurl.com/y9y2h7jk.png \"Example 1: High-Extraction Flour Blend\"\n",
    "\n",
    "[f4]: http://mathurl.com/y8w9ywur.png \"Example 2: Medium-Strong Wheat Flour Blend\""
   ]
  },
  {
   "cell_type": "code",
   "execution_count": null,
   "metadata": {},
   "outputs": [],
   "source": []
  }
 ],
 "metadata": {
  "language_info": {
   "name": "python",
   "pygments_lexer": "ipython3"
  }
 },
 "nbformat": 4,
 "nbformat_minor": 2
}
