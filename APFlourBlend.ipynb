{
 "cells": [
  {
   "cell_type": "markdown",
   "metadata": {},
   "source": [
    "# Blending High Extraction and Low Extraction Flours\n",
    "\n",
    "The [Tartine method][Tartine3] calls for wheat flours at various extraction levels which\n",
    "are not easy to purchase. They can, however, be created by blending low and\n",
    "high extraction flour. The\n",
    "[Hamelman Challenge, Tech. Note: High Extraction Flour][Hamelman Challenge]\n",
    "provides a method for blending whole wheat (100% extraction) and typical bread\n",
    "flour (~70% extraction) to achieve the desired High Extraction Flour (85%).\n",
    "\n",
    "I found a [bread flour][Azure Bread Flour] from [Azure Standard] with a flavor\n",
    "and color I enjoy. The Unifine milling process reduces the bran and germ to small enough particles that they are not noticeable in the texture. Oven spring is good, but the air-pockets are not large, unlike [Tartine][Tartine3] bread. The texture is good but a little dense. \n",
    "\n",
    "The [Azure Bread Flour] extraction (90%) is higher than the recommended 85% for High-Extraction and 75% for Medium-Strong. So assuming my turning and forming skills are not to blame (*dubious assumption*), I'm going to try blending flours  to achieve the recommended extraction.\n",
    "\n",
    "Blending the bread flour with All-Purpose flour (70–75% extraction) provides a simple solution, but we'll have to guess at the extraction rate since it is not usually reported on the label. [Azure Standard] has an [unenriched All-Purpose Flour][Azure All-Purpose Flour], which we'll assume is 72% extraction. Since the target extraction rate ranges between 75 and 85%, assuming 72% for the All-Purpose flour seems a reasonable middle-ground.\n",
    "\n",
    "We can avoid any questions about whether enriching is healthy since the bread flour and the whole grain flours typical of [Tartine][Tartine3] recipes should compensate for any nutrients removed from the All-Purpose flour. The amount of All-Purpose flour required is a small fraction (~6%) of the total flour.\n",
    "\n",
    "Taking an approach similar to the [Hamelman Challenge], we'll estimate extraction by adding the weight of All-Purpose flour to the total grain weight (denominator of the equation). Since we're not adding any bran or germ, the numerator only includes the weight of bread flour.\n",
    "\n",
    "[Tartine3]: https://books.google.com/books/about/Tartine_Book_No_3.html?id=iS_UAAAAQBAJ \"Tartine Book No. 3: Modern Ancient Classic Whole\"\n",
    "\n",
    "[Hamelman Challenge]: http://hamelmanchallenge.blogspot.com/2010/06/tech-note-high-extraction-flour.html \"Tech. Note: High Extraction Flour\"\n",
    "\n",
    "[Azure Bread Flour]: https://www.azurestandard.com/shop/product/food/flour/white/wheat/unbleached-bread-flour-ultra-unifine-organic/20260?package=FL403 \"Azure Market Organics Unbleached Bread Flour (Ultra Unifine), Organic\"\n",
    "\n",
    "[Azure Standard]: https://www.azurestandard.com \"Azure Standard of Healthy and Abundant Living\"\n",
    "\n",
    "[Azure All-Purpose Flour]: https://www.azurestandard.com/shop/product/food/flour/unbleached-flour/all-purpose-flour-unbleached-organic/11444?package=FL080 \"Azure Market Organics All Purpose Flour Unbleached, Organic\""
   ]
  },
  {
   "cell_type": "code",
   "execution_count": 1,
   "metadata": {},
   "outputs": [],
   "source": [
    "from IPython.display import display, Math, Latex\n",
    "from sympy.plotting import plot\n",
    "import sympy as sym\n",
    "\n",
    "sym.init_printing() # LaTeX formatted output\n",
    "\n",
    "%matplotlib inline"
   ]
  },
  {
   "cell_type": "markdown",
   "metadata": {},
   "source": [
    "The math is a fairly straightforward mass-balance or weighted average:\n",
    "\n",
    "Let:\n",
    "\n",
    "$b$\n",
    ":   Subscript for bread flour\n",
    "\n",
    "$a$\n",
    ":   Subscript for All-Purpose flour\n",
    "\n",
    "$T$\n",
    ":   Subscript for Target (desired) extraction flour\n",
    "\n",
    "$m$\n",
    ":   mass of flour\n",
    "\n",
    "$E$\n",
    ":   Extraction fraction (i.e., percentage/100)—if you're using a spreadsheet, just type `%` after the percentage.\n",
    "\n",
    "$$\n",
    "\\begin{aligned}\n",
    "    \\frac{m_b}{E_b} + \\frac{m_a}{E_a} &= \\frac{m_T}{E_T} \\\\\n",
    "          m_b + m_a &= m_T \\\\\n",
    "\\end{aligned}\n",
    "$$\n",
    "The first equation is the total mass of grain, and the second is the mass of flour.\n",
    "\n",
    "Using a little bit of the Algebra, we were never going to use after high school (actually sympy is doing the work), we'll subtract the left side from the right to put the equations into a format sympy can solve:"
   ]
  },
  {
   "cell_type": "code",
   "execution_count": 2,
   "metadata": {},
   "outputs": [
    {
     "data": {
      "text/latex": [
       "$\\displaystyle \\text{The equations become:}$"
      ],
      "text/plain": [
       "<IPython.core.display.Math object>"
      ]
     },
     "metadata": {},
     "output_type": "display_data"
    },
    {
     "data": {
      "text/latex": [
       "$\\displaystyle - \\frac{m_{b}}{E_{b}} - \\frac{m_{a}}{E_{a}} + \\frac{m_{T}}{E_{T}}$"
      ],
      "text/plain": [
       "<IPython.core.display.Math object>"
      ]
     },
     "metadata": {},
     "output_type": "display_data"
    },
    {
     "data": {
      "text/latex": [
       "$\\displaystyle m_{T} - m_{a} - m_{b}$"
      ],
      "text/plain": [
       "<IPython.core.display.Math object>"
      ]
     },
     "metadata": {},
     "output_type": "display_data"
    },
    {
     "data": {
      "text/latex": [
       "$\\displaystyle \\text{The solution is:}$"
      ],
      "text/plain": [
       "<IPython.core.display.Math object>"
      ]
     },
     "metadata": {},
     "output_type": "display_data"
    },
    {
     "data": {
      "text/latex": [
       "$\\displaystyle \\left \\{ m_{a} : \\frac{E_{a} m_{T} \\left(E_{T} - E_{b}\\right)}{E_{T} \\left(E_{a} - E_{b}\\right)}, \\quad m_{b} : - \\frac{E_{b} m_{T} \\left(E_{T} - E_{a}\\right)}{E_{T} \\left(E_{a} - E_{b}\\right)}\\right \\}$"
      ],
      "text/plain": [
       "<IPython.core.display.Math object>"
      ]
     },
     "metadata": {},
     "output_type": "display_data"
    }
   ],
   "source": [
    "ET, Eb, Ea, mT = sym.symbols('E_T, E_b, E_a, m_T')\n",
    "ma, mb = sym.symbols('m_a, m_b')\n",
    "\n",
    "E1 =  mT / ET - mb / Eb - ma /Ea\n",
    "E2 = mT - mb - ma\n",
    "sols = sym.solve([E1, E2], [mb, ma])\n",
    "\n",
    "sols[mb] = sols[mb].simplify()\n",
    "\n",
    "display(Math(data=r'\\text{The equations become:}'),\n",
    "        Math(data=sym.latex(E1)),\n",
    "        Math(data=sym.latex(E2)),\n",
    "        Math(data=r'\\text{The solution is:}'),\n",
    "        Math(data=sym.latex(sols))\n",
    "       )\n",
    "\n",
    "mb = (sols[mb]).factor()\n",
    "ma = (sols[ma]).factor()"
   ]
  },
  {
   "cell_type": "code",
   "execution_count": 3,
   "metadata": {},
   "outputs": [
    {
     "data": {
      "image/png": "[encoded data removed]",
      "text/plain": [
       "<Figure size 432x288 with 1 Axes>"
      ]
     },
     "metadata": {
      "needs_background": "light"
     },
     "output_type": "display_data"
    }
   ],
   "source": [
    "subs = dict([\n",
    "             ('E_b', 0.90),\n",
    "             ('E_a', 0.72),\n",
    "             ('m_T', 500.0),\n",
    "            ])\n",
    "plt = plot(ma.subs(subs), mb.subs(subs), ('E_T', 0.72, 0.90), show=False, )\n",
    "plt[0].line_color = 'firebrick'\n",
    "plt[0].label = '$m_a$'\n",
    "plt[1].label = '$m_b$'\n",
    "plt.xlabel = 'Extraction Rate, $E_T$'\n",
    "plt.xlim = (0.70, 0.9)\n",
    "plt.ylabel = 'Flour Mass (g)'\n",
    "plt.axis_center = (0.70, 0)\n",
    "plt.legend = True\n",
    "plt.show()"
   ]
  },
  {
   "cell_type": "markdown",
   "metadata": {},
   "source": [
    "## Example 1: High-Extraction Flour Blend\n",
    "\n",
    "For 500 g ($m_T$) of high-extraction flour:"
   ]
  },
  {
   "cell_type": "code",
   "execution_count": 4,
   "metadata": {},
   "outputs": [
    {
     "data": {
      "text/latex": [
       "$\\displaystyle \\text{For:}$"
      ],
      "text/plain": [
       "<IPython.core.display.Math object>"
      ]
     },
     "metadata": {},
     "output_type": "display_data"
    },
    {
     "data": {
      "text/latex": [
       "$\\displaystyle \\left \\{ E_T : 0.85, \\quad E_a : 0.72, \\quad E_b : 0.9, \\quad m_T : 500.0\\right \\}$"
      ],
      "text/plain": [
       "<IPython.core.display.Math object>"
      ]
     },
     "metadata": {},
     "output_type": "display_data"
    },
    {
     "data": {
      "text/latex": [
       "$\\displaystyle \\text{the flour blend should be:}$"
      ],
      "text/plain": [
       "<IPython.core.display.Math object>"
      ]
     },
     "metadata": {},
     "output_type": "display_data"
    },
    {
     "data": {
      "text/latex": [
       "$\\displaystyle \\left \\{ m_T : 500.0, \\quad m_a : 118.0, \\quad m_b : 382.0\\right \\}$"
      ],
      "text/plain": [
       "<IPython.core.display.Math object>"
      ]
     },
     "metadata": {},
     "output_type": "display_data"
    }
   ],
   "source": [
    "subs = dict([('E_T', 0.85),\n",
    "             ('E_b', 0.90),\n",
    "             ('E_a', 0.72),\n",
    "             ('m_T', 500.0),\n",
    "            ])\n",
    "\n",
    "def display_blend(subs=subs, ma=ma, mb=mb):\n",
    "    '''Display the bread and All-Purpose flour blend'''\n",
    "    \n",
    "    result = dict([('m_a', round(ma.subs(subs),0)),\n",
    "                   ('m_b', round(mb.subs(subs),0))])\n",
    "    result['m_T'] = result['m_a'] + result['m_b']\n",
    "\n",
    "    display(Math(data=r'\\text{For:}'), Math(data=sym.latex(subs)),\n",
    "            Math(data=r'\\text{the flour blend should be:}'), \n",
    "            Math(data=sym.latex(result)))\n",
    "\n",
    "    assert result['m_T'] == subs['m_T']\n",
    "\n",
    "display_blend()"
   ]
  },
  {
   "cell_type": "markdown",
   "metadata": {},
   "source": [
    "## Example 2: Medium-Strong Wheat Flour Blend\n",
    "\n",
    "For 500 g ($m_T$) of medium-strong wheat flour:"
   ]
  },
  {
   "cell_type": "code",
   "execution_count": 5,
   "metadata": {},
   "outputs": [
    {
     "data": {
      "text/latex": [
       "$\\displaystyle \\text{For:}$"
      ],
      "text/plain": [
       "<IPython.core.display.Math object>"
      ]
     },
     "metadata": {},
     "output_type": "display_data"
    },
    {
     "data": {
      "text/latex": [
       "$\\displaystyle \\left \\{ E_T : 0.75, \\quad E_a : 0.72, \\quad E_b : 0.9, \\quad m_T : 500.0\\right \\}$"
      ],
      "text/plain": [
       "<IPython.core.display.Math object>"
      ]
     },
     "metadata": {},
     "output_type": "display_data"
    },
    {
     "data": {
      "text/latex": [
       "$\\displaystyle \\text{the flour blend should be:}$"
      ],
      "text/plain": [
       "<IPython.core.display.Math object>"
      ]
     },
     "metadata": {},
     "output_type": "display_data"
    },
    {
     "data": {
      "text/latex": [
       "$\\displaystyle \\left \\{ m_T : 500.0, \\quad m_a : 400.0, \\quad m_b : 100.0\\right \\}$"
      ],
      "text/plain": [
       "<IPython.core.display.Math object>"
      ]
     },
     "metadata": {},
     "output_type": "display_data"
    }
   ],
   "source": [
    "subs = dict([('E_T', 0.75),\n",
    "             ('E_b', 0.90),\n",
    "             ('E_a', 0.72),\n",
    "             ('m_T', 500.0),\n",
    "            ])\n",
    "\n",
    "display_blend(subs=subs)"
   ]
  },
  {
   "cell_type": "markdown",
   "metadata": {},
   "source": [
    "# Results\n",
    "\n",
    "Time to bake some bread and see...."
   ]
  }
 ],
 "metadata": {
  "kernelspec": {
   "display_name": "Python 3",
   "language": "python",
   "name": "python3"
  },
  "language_info": {
   "codemirror_mode": {
    "name": "ipython",
    "version": 3
   },
   "file_extension": ".py",
   "mimetype": "text/x-python",
   "name": "python",
   "nbconvert_exporter": "python",
   "pygments_lexer": "ipython3",
   "version": "3.6.7"
  },
  "toc": {
   "base_numbering": 1,
   "nav_menu": {},
   "number_sections": true,
   "sideBar": true,
   "skip_h1_title": false,
   "title_cell": "Table of Contents",
   "title_sidebar": "Contents",
   "toc_cell": false,
   "toc_position": {},
   "toc_section_display": true,
   "toc_window_display": false
  }
 },
 "nbformat": 4,
 "nbformat_minor": 2
}
